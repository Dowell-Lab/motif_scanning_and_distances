{
 "cells": [
  {
   "cell_type": "code",
   "execution_count": 2,
   "metadata": {
    "ExecuteTime": {
     "end_time": "2022-09-08T16:33:29.067821Z",
     "start_time": "2022-09-08T16:33:29.063506Z"
    }
   },
   "outputs": [],
   "source": [
    "import os\n",
    "import pandas as pd\n",
    "import numpy as np\n",
    "import glob"
   ]
  },
  {
   "cell_type": "markdown",
   "metadata": {},
   "source": [
    "# splitting giant bed file into 1/10 the size on a per chromosome basis"
   ]
  },
  {
   "cell_type": "code",
   "execution_count": 129,
   "metadata": {
    "ExecuteTime": {
     "end_time": "2022-09-06T22:35:47.746081Z",
     "start_time": "2022-09-06T22:35:47.319520Z"
    }
   },
   "outputs": [],
   "source": [
    "# root='hg38_qc4_gc50perc_tss50perc_MASTER_tfit_dreg'\n",
    "root='mm10_qc4_gc50perc_tss50perc_MASTER_tfit_dreg'\n",
    "\n",
    "df = pd.read_csv('/scratch/Shares/dowell/dbnascent/out/meta_analysis/mumerge/bidirectionals_dreg_tfit/'+root+'.bed',\n",
    "                sep='\\t', header=None)"
   ]
  },
  {
   "cell_type": "code",
   "execution_count": 130,
   "metadata": {
    "ExecuteTime": {
     "end_time": "2022-09-06T22:35:53.392975Z",
     "start_time": "2022-09-06T22:35:48.743400Z"
    }
   },
   "outputs": [
    {
     "data": {
      "text/html": [
       "<div>\n",
       "<style scoped>\n",
       "    .dataframe tbody tr th:only-of-type {\n",
       "        vertical-align: middle;\n",
       "    }\n",
       "\n",
       "    .dataframe tbody tr th {\n",
       "        vertical-align: top;\n",
       "    }\n",
       "\n",
       "    .dataframe thead th {\n",
       "        text-align: right;\n",
       "    }\n",
       "</style>\n",
       "<table border=\"1\" class=\"dataframe\">\n",
       "  <thead>\n",
       "    <tr style=\"text-align: right;\">\n",
       "      <th></th>\n",
       "      <th>chr</th>\n",
       "      <th>start</th>\n",
       "      <th>stop</th>\n",
       "      <th>merge</th>\n",
       "      <th>region_name</th>\n",
       "    </tr>\n",
       "  </thead>\n",
       "  <tbody>\n",
       "    <tr>\n",
       "      <th>0</th>\n",
       "      <td>chr1</td>\n",
       "      <td>35</td>\n",
       "      <td>417</td>\n",
       "      <td>dreg</td>\n",
       "      <td>chr1;region_1</td>\n",
       "    </tr>\n",
       "    <tr>\n",
       "      <th>1</th>\n",
       "      <td>chr1</td>\n",
       "      <td>1160</td>\n",
       "      <td>2910</td>\n",
       "      <td>dreg</td>\n",
       "      <td>chr1;region_2</td>\n",
       "    </tr>\n",
       "    <tr>\n",
       "      <th>2</th>\n",
       "      <td>chr1</td>\n",
       "      <td>3701</td>\n",
       "      <td>4600</td>\n",
       "      <td>dreg</td>\n",
       "      <td>chr1;region_3</td>\n",
       "    </tr>\n",
       "    <tr>\n",
       "      <th>3</th>\n",
       "      <td>chr1</td>\n",
       "      <td>6402</td>\n",
       "      <td>6700</td>\n",
       "      <td>dreg</td>\n",
       "      <td>chr1;region_4</td>\n",
       "    </tr>\n",
       "    <tr>\n",
       "      <th>4</th>\n",
       "      <td>chr1</td>\n",
       "      <td>8718</td>\n",
       "      <td>9112</td>\n",
       "      <td>dreg</td>\n",
       "      <td>chr1;region_5</td>\n",
       "    </tr>\n",
       "    <tr>\n",
       "      <th>...</th>\n",
       "      <td>...</td>\n",
       "      <td>...</td>\n",
       "      <td>...</td>\n",
       "      <td>...</td>\n",
       "      <td>...</td>\n",
       "    </tr>\n",
       "    <tr>\n",
       "      <th>563103</th>\n",
       "      <td>chrY</td>\n",
       "      <td>90837270</td>\n",
       "      <td>90837490</td>\n",
       "      <td>dreg</td>\n",
       "      <td>chrY;region_563104</td>\n",
       "    </tr>\n",
       "    <tr>\n",
       "      <th>563104</th>\n",
       "      <td>chrY</td>\n",
       "      <td>90839528</td>\n",
       "      <td>90839984</td>\n",
       "      <td>dreg</td>\n",
       "      <td>chrY;region_563105</td>\n",
       "    </tr>\n",
       "    <tr>\n",
       "      <th>563105</th>\n",
       "      <td>chrY</td>\n",
       "      <td>90841564</td>\n",
       "      <td>90841930</td>\n",
       "      <td>dreg</td>\n",
       "      <td>chrY;region_563106</td>\n",
       "    </tr>\n",
       "    <tr>\n",
       "      <th>563106</th>\n",
       "      <td>chrY</td>\n",
       "      <td>90843228</td>\n",
       "      <td>90844160</td>\n",
       "      <td>dreg</td>\n",
       "      <td>chrY;region_563107</td>\n",
       "    </tr>\n",
       "    <tr>\n",
       "      <th>563107</th>\n",
       "      <td>chrY</td>\n",
       "      <td>90925972</td>\n",
       "      <td>90926362</td>\n",
       "      <td>dreg</td>\n",
       "      <td>chrY;region_563108</td>\n",
       "    </tr>\n",
       "  </tbody>\n",
       "</table>\n",
       "<p>563108 rows × 5 columns</p>\n",
       "</div>"
      ],
      "text/plain": [
       "         chr     start      stop merge         region_name\n",
       "0       chr1        35       417  dreg       chr1;region_1\n",
       "1       chr1      1160      2910  dreg       chr1;region_2\n",
       "2       chr1      3701      4600  dreg       chr1;region_3\n",
       "3       chr1      6402      6700  dreg       chr1;region_4\n",
       "4       chr1      8718      9112  dreg       chr1;region_5\n",
       "...      ...       ...       ...   ...                 ...\n",
       "563103  chrY  90837270  90837490  dreg  chrY;region_563104\n",
       "563104  chrY  90839528  90839984  dreg  chrY;region_563105\n",
       "563105  chrY  90841564  90841930  dreg  chrY;region_563106\n",
       "563106  chrY  90843228  90844160  dreg  chrY;region_563107\n",
       "563107  chrY  90925972  90926362  dreg  chrY;region_563108\n",
       "\n",
       "[563108 rows x 5 columns]"
      ]
     },
     "execution_count": 130,
     "metadata": {},
     "output_type": "execute_result"
    }
   ],
   "source": [
    "df.columns=['chr','start','stop','merge']\n",
    "# df = df[['chr', 'start', 'stop']]\n",
    "df['count'] = (np.arange(len(df)))\n",
    "df['count'] = (df['count']+1).apply(str)\n",
    "df['region_name'] = df['chr'] + ';region_' + df['count']\n",
    "df.drop(['count'], axis=1, inplace=True)\n",
    "\n",
    "df.to_csv('/scratch/Shares/dowell/tajo/bidirectionals_dreg_tfit_rbg/annotations/'+root\n",
    "                              +'.bed',\n",
    "                             sep='\\t', header=False, index=False)\n",
    "\n",
    "df"
   ]
  },
  {
   "cell_type": "code",
   "execution_count": 124,
   "metadata": {
    "ExecuteTime": {
     "end_time": "2022-09-06T22:34:25.006944Z",
     "start_time": "2022-09-06T22:34:22.667359Z"
    },
    "code_folding": []
   },
   "outputs": [
    {
     "name": "stdout",
     "output_type": "stream",
     "text": [
      "True\n",
      "True\n",
      "True\n",
      "True\n",
      "True\n",
      "True\n",
      "True\n",
      "True\n",
      "True\n",
      "True\n",
      "True\n",
      "True\n",
      "True\n",
      "True\n",
      "True\n",
      "True\n",
      "True\n",
      "True\n",
      "True\n",
      "True\n",
      "True\n"
     ]
    }
   ],
   "source": [
    "dd={}\n",
    "for chrm in list(set(df['chr'])):\n",
    "    chrdf = df[df['chr']==chrm]\n",
    "    chrdf=chrdf.reset_index()\n",
    "\n",
    "    N=10\n",
    "    chrcounts=round(len(chrdf)/N)\n",
    "    S = chrcounts\n",
    "    frames = [chrdf.iloc[i*S:(i+1)*S].copy() for i in range(N+1) ]\n",
    "    ll=[]\n",
    "    for i in range(len(frames)):\n",
    "        ll.append(len(frames[i]))\n",
    "    print(sum(ll) == len(chrdf))\n",
    "    dd[chrm]=frames"
   ]
  },
  {
   "cell_type": "code",
   "execution_count": 125,
   "metadata": {
    "ExecuteTime": {
     "end_time": "2022-09-06T22:34:28.740675Z",
     "start_time": "2022-09-06T22:34:26.130691Z"
    }
   },
   "outputs": [],
   "source": [
    "# for chrm in list(set(df[0])):\n",
    "dcat = {}\n",
    "for i in range(11):\n",
    "    sdf = pd.DataFrame()\n",
    "    for chrm in list(dd.keys()):\n",
    "        sdf=pd.concat([sdf,dd[chrm][i]])\n",
    "    dcat[i]=sdf"
   ]
  },
  {
   "cell_type": "code",
   "execution_count": 126,
   "metadata": {
    "ExecuteTime": {
     "end_time": "2022-09-06T22:34:30.239604Z",
     "start_time": "2022-09-06T22:34:30.230468Z"
    }
   },
   "outputs": [
    {
     "data": {
      "text/plain": [
       "True"
      ]
     },
     "execution_count": 126,
     "metadata": {},
     "output_type": "execute_result"
    }
   ],
   "source": [
    "ll=[]\n",
    "for i in list(dcat.keys()):\n",
    "    ll.append(len(dcat[i]))\n",
    "sum(ll)==len(df)"
   ]
  },
  {
   "cell_type": "code",
   "execution_count": 127,
   "metadata": {
    "ExecuteTime": {
     "end_time": "2022-09-06T22:34:47.917084Z",
     "start_time": "2022-09-06T22:34:43.215582Z"
    }
   },
   "outputs": [],
   "source": [
    "for i in range(9):\n",
    "    dcat[i][['chr','start','stop','region_name']].to_csv('/scratch/Shares/dowell/tajo/bidirectionals_dreg_tfit_rbg/annotations/'+root+'_'\n",
    "                              +str(i)+'.bed',\n",
    "                             sep='\\t', header=False, index=False)\n",
    "dcatlast=pd.concat([dcat[9],dcat[10]])\n",
    "dcatlast[['chr','start','stop','region_name']].to_csv('/scratch/Shares/dowell/tajo/bidirectionals_dreg_tfit_rbg/annotations/'+root+'_'\n",
    "                              +str(9)+'.bed',\n",
    "                             sep='\\t', header=False, index=False)    \n",
    "    "
   ]
  },
  {
   "cell_type": "code",
   "execution_count": 132,
   "metadata": {
    "ExecuteTime": {
     "end_time": "2022-09-06T22:36:58.827361Z",
     "start_time": "2022-09-06T22:36:44.995776Z"
    }
   },
   "outputs": [],
   "source": [
    "bedlist=glob.glob('/scratch/Shares/dowell/tajo/bidirectionals_dreg_tfit_rbg/annotations/mm*')\n",
    "bedlist\n",
    "for bed in bedlist:\n",
    "    os.system('sort -k1,1 -k2,2n ' + bed + ' > ' + bed.replace('.bed', '.sorted.bed'))  "
   ]
  },
  {
   "cell_type": "code",
   "execution_count": 134,
   "metadata": {
    "ExecuteTime": {
     "end_time": "2022-09-06T22:38:31.657698Z",
     "start_time": "2022-09-06T22:38:31.652587Z"
    }
   },
   "outputs": [
    {
     "data": {
      "text/plain": [
       "True"
      ]
     },
     "execution_count": 134,
     "metadata": {},
     "output_type": "execute_result"
    }
   ],
   "source": [
    "1126216/2 == len(df)"
   ]
  },
  {
   "cell_type": "code",
   "execution_count": 4,
   "metadata": {
    "ExecuteTime": {
     "end_time": "2022-09-07T17:36:52.025094Z",
     "start_time": "2022-09-07T17:36:52.021599Z"
    }
   },
   "outputs": [],
   "source": [
    "# script='/scratch/Shares/dowell/tajo/bidirectionals_dreg_tfit_rbg/run_rbg_hoco_mouse.sbatch'\n",
    "# for i in range(10):\n",
    "#     print('sbatch ' + script + ' ' + str(i))"
   ]
  },
  {
   "cell_type": "markdown",
   "metadata": {},
   "source": [
    "# combining distance tables"
   ]
  },
  {
   "cell_type": "code",
   "execution_count": 4,
   "metadata": {
    "ExecuteTime": {
     "end_time": "2022-09-08T16:33:56.802799Z",
     "start_time": "2022-09-08T16:33:56.765676Z"
    }
   },
   "outputs": [],
   "source": [
    "num=0\n",
    "tf_paths= glob.glob('/scratch/Shares/dowell/tajo/bidirectionals_dreg_tfit_rbg/mouse_hocomoco_full/split_'+str(num)+\n",
    "            '/distances/experimental/*')\n",
    "tfs=[]\n",
    "for tf in tf_paths:\n",
    "    tf=tf.split('/')[-1]\n",
    "    tf=tf.replace('_distances.txt','')\n",
    "    tfs.append(tf) \n",
    "\n",
    "outdir='/scratch/Shares/dowell/tajo/bidirectionals_dreg_tfit_rbg/mouse_hocomoco_full/distances/'"
   ]
  },
  {
   "cell_type": "code",
   "execution_count": 5,
   "metadata": {
    "ExecuteTime": {
     "end_time": "2022-09-08T16:47:22.820823Z",
     "start_time": "2022-09-08T16:34:11.465198Z"
    },
    "code_folding": []
   },
   "outputs": [],
   "source": [
    "for tf in tfs:\n",
    "    df=pd.DataFrame()\n",
    "    for num in range(10):\n",
    "        splitdf=pd.read_csv('/scratch/Shares/dowell/tajo/bidirectionals_dreg_tfit_rbg/mouse_hocomoco_full/split_'\n",
    "                            +str(num)+\n",
    "                            '/distances/experimental/'+tf+'_distances.txt', sep='\\t')\n",
    "        df=pd.concat([df,splitdf])\n",
    "    df.to_csv(outdir+tf+'_distances.txt', sep='\\t', index=False)"
   ]
  }
 ],
 "metadata": {
  "kernelspec": {
   "display_name": "Python 3",
   "language": "python",
   "name": "python3"
  },
  "language_info": {
   "codemirror_mode": {
    "name": "ipython",
    "version": 3
   },
   "file_extension": ".py",
   "mimetype": "text/x-python",
   "name": "python",
   "nbconvert_exporter": "python",
   "pygments_lexer": "ipython3",
   "version": "3.7.4"
  },
  "toc": {
   "base_numbering": 1,
   "nav_menu": {},
   "number_sections": true,
   "sideBar": true,
   "skip_h1_title": false,
   "title_cell": "Table of Contents",
   "title_sidebar": "Contents",
   "toc_cell": false,
   "toc_position": {},
   "toc_section_display": true,
   "toc_window_display": false
  }
 },
 "nbformat": 4,
 "nbformat_minor": 2
}
